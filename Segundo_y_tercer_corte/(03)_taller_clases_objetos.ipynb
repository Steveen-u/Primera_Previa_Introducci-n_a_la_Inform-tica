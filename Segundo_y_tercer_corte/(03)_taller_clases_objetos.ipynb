{
  "nbformat": 4,
  "nbformat_minor": 0,
  "metadata": {
    "colab": {
      "name": "taller_clases_objetos.ipynb",
      "provenance": [],
      "collapsed_sections": []
    },
    "kernelspec": {
      "name": "python3",
      "display_name": "Python 3"
    },
    "language_info": {
      "name": "python"
    }
  },
  "cells": [
    {
      "cell_type": "markdown",
      "metadata": {
        "id": "c7E8-uTLzOXs"
      },
      "source": [
        "## Taller \n",
        "Crear una clase para generar objetos \n"
      ]
    },
    {
      "cell_type": "code",
      "metadata": {
        "colab": {
          "base_uri": "https://localhost:8080/"
        },
        "id": "0QZZWsFGy-A2",
        "outputId": "383d0728-2c39-4e55-a8a6-2bfbaabcecd4"
      },
      "source": [
        "#Gatos\n",
        "\n",
        "class Gato:\n",
        "  def __init__(self,nombre,edad,raza):\n",
        "    self.nombre = nombre\n",
        "    self.edad = edad\n",
        "    self.raza = raza\n",
        "  def get_name(self):\n",
        "    print(\"El nombre del gato es\", self.nombre)\n",
        "  def get_age(self):\n",
        "    print(\"El gato tiene\", self.edad, \"años\")\n",
        "  def get_race(self):\n",
        "    print(\"EL gato es de raza\", self.raza)\n",
        "\n",
        "    \n",
        "print(\"Primer gato\")\n",
        "a = Gato(\"Odín\", 4, \"Esfinge\")\n",
        "a.get_name()\n",
        "a.get_age()\n",
        "a.get_race()\n",
        "print(\"Segundo gato\")\n",
        "b = Gato(\"Orión\", 7, \"Persa\")\n",
        "b.get_name()\n",
        "b.get_age()\n",
        "b.get_race()\n",
        "print(\"Tercer gato\")\n",
        "c = Gato(\"Da vinci\", 9, \"Fold Escoces\")\n",
        "c.get_name()\n",
        "c.get_age()\n",
        "c.get_race()"
      ],
      "execution_count": null,
      "outputs": [
        {
          "output_type": "stream",
          "name": "stdout",
          "text": [
            "Primer gato\n",
            "El nombre del gato es Odín\n",
            "El gato tiene 4 años\n",
            "EL gato es de raza Esfinge\n",
            "Segundo gato\n",
            "El nombre del gato es Orión\n",
            "El gato tiene 7 años\n",
            "EL gato es de raza Persa\n",
            "Tercer gato\n",
            "El nombre del gato es Da vinci\n",
            "El gato tiene 9 años\n",
            "EL gato es de raza Fold Escoces\n"
          ]
        }
      ]
    },
    {
      "cell_type": "markdown",
      "metadata": {
        "id": "0mxT0gvF4P9R"
      },
      "source": [
        "## Segundo ejercicio\n"
      ]
    },
    {
      "cell_type": "code",
      "metadata": {
        "colab": {
          "base_uri": "https://localhost:8080/"
        },
        "id": "2A-K0vsf98I3",
        "outputId": "4fbacc0c-f80d-4bcb-8b49-e089506a36af"
      },
      "source": [
        "#Motos\n",
        "\n",
        "class Motos:\n",
        "  def __init__(self,modelo,cilindraje,peso,potencia):\n",
        "    self.modelo = modelo\n",
        "    self.cilindraje = cilindraje\n",
        "    self.peso = peso\n",
        "    self.potencia = potencia\n",
        "  def __str__(self):\n",
        "    return 'Modelo: {}\\nCilindraje: {}\\nPeso: {}\\nPotencia: {}'.format(self.modelo, self.cilindraje, self.peso, self.potencia)\n",
        "\n",
        "\n",
        "print(\"Especificaciones moto Harley\")\n",
        "Harley_Davidson = Motos(\"Sportster 2022\", \"1252cc\", \"228kg\", \"122cv\")\n",
        "print(Harley_Davidson)\n",
        "print(\"Especificaciones moto Indian\")\n",
        "Indian = Motos(\"Scout Bobber Twenty\", \"1133cc\", \"255kg\", \"94cv\")\n",
        "print(Indian)\n",
        "print(\"Especificaciones moto Royal Enfield\")\n",
        "Royal_Enfield = Motos(\"Continental GT 650\", \"648cc\", \"198kg\", \"47cv\")\n",
        "print(Royal_Enfield)"
      ],
      "execution_count": null,
      "outputs": [
        {
          "output_type": "stream",
          "name": "stdout",
          "text": [
            "Especificaciones moto Harley\n",
            "Modelo: Sportster 2022\n",
            "Cilindraje: 1252cc\n",
            "Peso: 228kg\n",
            "Potencia: 122cv\n",
            "Especificaciones moto Indian\n",
            "Modelo: Scout Bobber Twenty\n",
            "Cilindraje: 1133cc\n",
            "Peso: 255kg\n",
            "Potencia: 94cv\n",
            "Especificaciones moto Royal Enfield\n",
            "Modelo: Continental GT 650\n",
            "Cilindraje: 648cc\n",
            "Peso: 198kg\n",
            "Potencia: 47cv\n"
          ]
        }
      ]
    }
  ]
}