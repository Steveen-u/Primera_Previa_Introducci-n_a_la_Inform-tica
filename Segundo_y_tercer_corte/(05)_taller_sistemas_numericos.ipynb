{
  "nbformat": 4,
  "nbformat_minor": 0,
  "metadata": {
    "colab": {
      "name": "taller_sistemas_numericos.ipynb",
      "provenance": [],
      "collapsed_sections": []
    },
    "kernelspec": {
      "display_name": "Python 3",
      "name": "python3"
    },
    "language_info": {
      "name": "python"
    }
  },
  "cells": [
    {
      "cell_type": "code",
      "metadata": {
        "id": "SX2a18--yyn5",
        "colab": {
          "base_uri": "https://localhost:8080/"
        },
        "outputId": "7361dbb3-4e4e-432c-dad8-665e71266f8f"
      },
      "source": [
        "class Ternario:\n",
        "  def __init__(self, dato):\n",
        "    self.dato = dato\n",
        "  def lista(self):\n",
        "    return [int(x) for x in str(self.dato)] \n",
        "  def inverse(self):\n",
        "     return self.lista()[::-1]\n",
        "  def decimal(self):\n",
        "    posicion = 0\n",
        "    decimal = 0\n",
        "    for digito in self.inverse():\n",
        "      multiplicador = 3**posicion\n",
        "      decimal += int(digito) * multiplicador\n",
        "      posicion += 1\n",
        "    return decimal\n",
        "\n",
        "a = Ternario(\"0122112\")\n",
        "print(a.decimal())\n",
        "b = Ternario(2120121)\n",
        "print(b.decimal())"
      ],
      "execution_count": null,
      "outputs": [
        {
          "output_type": "stream",
          "name": "stdout",
          "text": [
            "473\n",
            "1879\n"
          ]
        }
      ]
    },
    {
      "cell_type": "code",
      "metadata": {
        "colab": {
          "base_uri": "https://localhost:8080/"
        },
        "id": "pQGKXdG_5QBh",
        "outputId": "14f59c31-4bb9-499a-cc27-2cd25ee08db2"
      },
      "source": [
        "class Octal:\n",
        "  def __init__(self, dato):\n",
        "    self.dato = dato\n",
        "  def lista(self):\n",
        "    return [int(x) for x in str(self.dato)] \n",
        "  def inverse(self):\n",
        "     return self.lista()[::-1]\n",
        "  def decimal(self):\n",
        "    posicion = 0\n",
        "    decimal = 0\n",
        "    for digito in self.inverse():\n",
        "      multiplicador = 8**posicion\n",
        "      decimal += int(digito) * multiplicador\n",
        "      posicion += 1\n",
        "    return decimal\n",
        "\n",
        "a = Octal(\"0783136\")\n",
        "print(a.decimal())\n",
        "b = Octal(3576127)\n",
        "print(b.decimal())"
      ],
      "execution_count": null,
      "outputs": [
        {
          "output_type": "stream",
          "name": "stdout",
          "text": [
            "263774\n",
            "982103\n"
          ]
        }
      ]
    },
    {
      "cell_type": "code",
      "metadata": {
        "id": "kuErtk-AvfKD"
      },
      "source": [
        ""
      ],
      "execution_count": null,
      "outputs": []
    }
  ]
}